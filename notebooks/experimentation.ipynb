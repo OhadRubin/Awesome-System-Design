{
 "cells": [
  {
   "cell_type": "markdown",
   "metadata": {},
   "source": [
    "curl -sS 'http://localhost:5000/config?name=ohad&user_id=1'"
   ]
  },
  {
   "cell_type": "code",
   "execution_count": 1,
   "metadata": {},
   "outputs": [],
   "source": [
    "# dir(protobuf3)"
   ]
  },
  {
   "cell_type": "code",
   "execution_count": 22,
   "metadata": {},
   "outputs": [],
   "source": [
    "import asd_pb2\n",
    "import gzip\n",
    "# import protobuf3\n",
    "import struct\n",
    "# print(dir(asd_pb2._USER))\n",
    "# print(\"\\n\".join(dir(asd_pb2.User)))\n",
    "\n",
    "class Reader:\n",
    "    def __init__(self, path=\"sample.mind.gz\"):\n",
    "        self._path  = path\n",
    "        self._read_user()\n",
    "        \n",
    "    def _read_user(self):\n",
    "        with gzip.open(self._path) as f:\n",
    "            user_msg_size = struct.unpack(\"I\",f.read(4))[0]\n",
    "            user_msg_bytes = f.read(user_msg_size)\n",
    "            user = asd_pb2.User.FromString(user_msg_bytes)\n",
    "            self.user_id = user.user_id\n",
    "            self.username = user.username\n",
    "            self.birthday = user.birthday\n",
    "                \n",
    "    def __iter__(self):\n",
    "        with gzip.open(self._path) as f:\n",
    "            user_msg_size = struct.unpack(\"I\",f.read(4))[0]\n",
    "            user_msg_bytes = f.read(user_msg_size)\n",
    "            while True:\n",
    "                msg_size = struct.unpack(\"I\",f.read(4))[0]\n",
    "                msg_bytes = f.read(msg_size)\n",
    "                snapshot = asd_pb2.Snapshot.FromString(msg_bytes)\n",
    "                yield snapshot\n"
   ]
  },
  {
   "cell_type": "code",
   "execution_count": 5,
   "metadata": {},
   "outputs": [],
   "source": [
    "import gzip\n",
    "# import protobuf3\n",
    "import struct\n",
    "_path = \"sample.mind.gz\"\n",
    "with gzip.open(_path) as f:\n",
    "    msg_size_1 =struct.unpack(\"I\",f.read(4))[0]\n",
    "    f.read(msg_size_1)\n",
    "    msg_size_2 =struct.unpack(\"I\",f.read(4))[0]\n",
    "    keep_size = msg_size_2+msg_size_1+8\n",
    "with gzip.open(_path) as f:\n",
    "    with gzip.open(\"tiny.mind.gz\",\"wb\") as g:\n",
    "        g.write(f.read(keep_size))\n"
   ]
  },
  {
   "cell_type": "code",
   "execution_count": null,
   "metadata": {},
   "outputs": [
    {
     "name": "stdout",
     "output_type": "stream",
     "text": [
      " [x] b'\\x08*\\x12\\nDan Gittik\\x18\\xe0\\x90\\xd5\\xcd\\x02'\n",
      " [x] b'\\x08*\\x12\\nDan Gittik\\x18\\xe0\\x90\\xd5\\xcd\\x02'\n",
      " [x] b'\\x08*\\x12\\nDan Gittik\\x18\\xe0\\x90\\xd5\\xcd\\x02'\n",
      " [x] b'\\x08*\\x12\\nDan Gittik\\x18\\xe0\\x90\\xd5\\xcd\\x02'\n"
     ]
    }
   ],
   "source": [
    "from utils import mq\n",
    "def callback(ch, method, properties, body):\n",
    "    print(\" [x] %r\" % body)\n",
    "channel,queue_name = mq.connect2exchange()\n",
    "channel.basic_consume(\n",
    "    queue=queue_name, on_message_callback=callback, auto_ack=True)\n",
    "\n",
    "channel.start_consuming()"
   ]
  },
  {
   "cell_type": "code",
   "execution_count": 4,
   "metadata": {},
   "outputs": [
    {
     "ename": "ImportError",
     "evalue": "attempted relative import with no known parent package",
     "output_type": "error",
     "traceback": [
      "\u001b[0;31m---------------------------------------------------------------------------\u001b[0m",
      "\u001b[0;31mImportError\u001b[0m                               Traceback (most recent call last)",
      "\u001b[0;32m<ipython-input-4-c100104472e1>\u001b[0m in \u001b[0;36m<module>\u001b[0;34m\u001b[0m\n\u001b[0;32m----> 1\u001b[0;31m \u001b[0;32mimport\u001b[0m \u001b[0mreader\u001b[0m\u001b[0;34m\u001b[0m\u001b[0;34m\u001b[0m\u001b[0m\n\u001b[0m",
      "\u001b[0;32m~/workspace/Courses/2019A/ASD/awesome-system-design/asd/reader.py\u001b[0m in \u001b[0;36m<module>\u001b[0;34m\u001b[0m\n\u001b[0;32m----> 1\u001b[0;31m \u001b[0;32mfrom\u001b[0m \u001b[0;34m.\u001b[0m\u001b[0masd_pb2\u001b[0m \u001b[0;32mimport\u001b[0m \u001b[0;34m*\u001b[0m\u001b[0;34m\u001b[0m\u001b[0;34m\u001b[0m\u001b[0m\n\u001b[0m\u001b[1;32m      2\u001b[0m \u001b[0;32mimport\u001b[0m \u001b[0mgzip\u001b[0m\u001b[0;34m\u001b[0m\u001b[0;34m\u001b[0m\u001b[0m\n\u001b[1;32m      3\u001b[0m \u001b[0;32mimport\u001b[0m \u001b[0mstruct\u001b[0m\u001b[0;34m\u001b[0m\u001b[0;34m\u001b[0m\u001b[0m\n\u001b[1;32m      4\u001b[0m \u001b[0;32mimport\u001b[0m \u001b[0msh\u001b[0m\u001b[0;34m\u001b[0m\u001b[0;34m\u001b[0m\u001b[0m\n\u001b[1;32m      5\u001b[0m \u001b[0;34m\u001b[0m\u001b[0m\n",
      "\u001b[0;31mImportError\u001b[0m: attempted relative import with no known parent package"
     ]
    }
   ],
   "source": [
    "import reader\n"
   ]
  },
  {
   "cell_type": "code",
   "execution_count": 1,
   "metadata": {},
   "outputs": [
    {
     "name": "stdout",
     "output_type": "stream",
     "text": [
      "color_image color_image\n",
      "pose pose\n",
      "feelings feelings\n",
      "depth_image depth_image\n"
     ]
    }
   ],
   "source": [
    "parser_list = {}\n",
    "for module_name, module in parsers.modules.items():\n",
    "    for el in dir(module):\n",
    "        if el.endswith(\"Parser\"):\n",
    "            obj = module.__dict__[el]()\n",
    "            parser_list[module_name] = obj\n",
    "        if el.startswith(\"parse\"):\n",
    "            parser_list[module_name] = module.__dict__[el]\n",
    "for key, parser in parser_list.items():\n",
    "    print(key, parser.field)"
   ]
  },
  {
   "cell_type": "code",
   "execution_count": 5,
   "metadata": {},
   "outputs": [
    {
     "ename": "ImportError",
     "evalue": "attempted relative import with no known parent package",
     "output_type": "error",
     "traceback": [
      "\u001b[0;31m---------------------------------------------------------------------------\u001b[0m",
      "\u001b[0;31mImportError\u001b[0m                               Traceback (most recent call last)",
      "\u001b[0;32m<ipython-input-5-419cbd9863d8>\u001b[0m in \u001b[0;36m<module>\u001b[0;34m\u001b[0m\n\u001b[1;32m      3\u001b[0m \u001b[0;34m\u001b[0m\u001b[0m\n\u001b[1;32m      4\u001b[0m \u001b[0;32mimport\u001b[0m \u001b[0mrequests\u001b[0m\u001b[0;34m\u001b[0m\u001b[0;34m\u001b[0m\u001b[0m\n\u001b[0;32m----> 5\u001b[0;31m \u001b[0;32mfrom\u001b[0m \u001b[0;34m.\u001b[0m\u001b[0mreader\u001b[0m \u001b[0;32mimport\u001b[0m \u001b[0mReader\u001b[0m\u001b[0;34m\u001b[0m\u001b[0;34m\u001b[0m\u001b[0m\n\u001b[0m\u001b[1;32m      6\u001b[0m \u001b[0;32mimport\u001b[0m \u001b[0masd_pb2\u001b[0m\u001b[0;34m\u001b[0m\u001b[0;34m\u001b[0m\u001b[0m\n\u001b[1;32m      7\u001b[0m \u001b[0maddr\u001b[0m \u001b[0;34m=\u001b[0m \u001b[0;34m\"http://localhost:8000\"\u001b[0m\u001b[0;34m\u001b[0m\u001b[0;34m\u001b[0m\u001b[0m\n",
      "\u001b[0;31mImportError\u001b[0m: attempted relative import with no known parent package"
     ]
    }
   ],
   "source": [
    "import inspect\n",
    "\n",
    "\n",
    "import requests\n",
    "from .reader import Reader\n",
    "import asd_pb2\n",
    "addr = \"http://localhost:8000\"\n",
    "reader = Reader()\n",
    "user_fields = {\"user_id\":reader.user_id,\"username\":reader.username,\n",
    "               \"birthday\":reader.birthday,\"gender\":reader.gender}\n",
    "user = asd_pb2.User(**user_fields)\n",
    "\n",
    "for i,snapshot in enumerate(reader):\n",
    "    resp_result = requests.get(f'{addr}/config',data=user_fields).json()\n",
    "    available_parsers = resp_result['parsers']\n",
    "    snapshot_fields = {\"color_image\":snapshot.color_image,\n",
    "                       \"pose\":snapshot.pose,\n",
    "                       \"depth_image\":snapshot.depth_image,\n",
    "                       \"feelings\":snapshot.feelings} \n",
    "    \n",
    "    snapshot = asd_pb2.Snapshot(**{parser_name:snapshot_fields[parser_name] \n",
    "                                   for parser_name in available_parsers})\n",
    "    packet = asd_pb2.Packet(snapshot=snapshot,user=user)\n",
    "    resp = requests.post(f'{addr}/config',data=packet.SerializeToString(),\n",
    "                         headers={'Content-Type': 'application/protobuf',\n",
    "                                  'Content-Length':  str(len(packet_b))})\n",
    "#     print(resp.json())\n",
    "#     print(a.depth_image.ByteSize())\n",
    "    if i==5:\n",
    "        break\n",
    "\n"
   ]
  },
  {
   "cell_type": "code",
   "execution_count": 14,
   "metadata": {},
   "outputs": [],
   "source": []
  },
  {
   "cell_type": "code",
   "execution_count": 18,
   "metadata": {},
   "outputs": [
    {
     "data": {
      "text/plain": [
       "{'data': {'user_id': 1, 'name': 'ohad', 'birthday': None, 'gender': None},\n",
       " 'parsers': ['pose', 'color_image', 'depth_image', 'feelings']}"
      ]
     },
     "execution_count": 18,
     "metadata": {},
     "output_type": "execute_result"
    }
   ],
   "source": [
    "r"
   ]
  },
  {
   "cell_type": "code",
   "execution_count": 1,
   "metadata": {},
   "outputs": [
    {
     "name": "stdout",
     "output_type": "stream",
     "text": [
      "/home/ohadr/workspace/Courses/2019A/ASD/awesome-system-design\n"
     ]
    }
   ],
   "source": [
    "%cd ..\n",
    "from asd.utils.reader import Reader"
   ]
  },
  {
   "cell_type": "code",
   "execution_count": 2,
   "metadata": {},
   "outputs": [],
   "source": [
    "reader = Reader(\"scaffolding_files/sample.mind.gz\")"
   ]
  },
  {
   "cell_type": "code",
   "execution_count": 9,
   "metadata": {},
   "outputs": [
    {
     "name": "stdout",
     "output_type": "stream",
     "text": [
      "2019-12-04 10:08:07.339000\n",
      "2019-12-04 10:08:07.412000\n",
      "2019-12-04 10:08:07.476000\n",
      "2019-12-04 10:08:07.541000\n",
      "2019-12-04 10:08:07.603000\n",
      "2019-12-04 10:08:07.662000\n",
      "2019-12-04 10:08:07.734000\n",
      "2019-12-04 10:08:07.805000\n",
      "2019-12-04 10:08:07.871000\n",
      "2019-12-04 10:08:07.942000\n",
      "2019-12-04 10:08:08.025000\n",
      "2019-12-04 10:08:08.101000\n",
      "2019-12-04 10:08:08.189000\n",
      "2019-12-04 10:08:08.279000\n",
      "2019-12-04 10:08:08.367000\n",
      "2019-12-04 10:08:08.446000\n",
      "2019-12-04 10:08:08.535000\n",
      "2019-12-04 10:08:08.608000\n",
      "2019-12-04 10:08:08.689000\n",
      "2019-12-04 10:08:08.773000\n",
      "2019-12-04 10:08:08.861000\n",
      "2019-12-04 10:08:08.944000\n",
      "2019-12-04 10:08:09.021000\n",
      "2019-12-04 10:08:09.100000\n",
      "2019-12-04 10:08:09.175000\n",
      "2019-12-04 10:08:09.255000\n",
      "2019-12-04 10:08:09.352000\n",
      "2019-12-04 10:08:09.434000\n",
      "2019-12-04 10:08:09.508000\n",
      "2019-12-04 10:08:09.593000\n",
      "2019-12-04 10:08:09.667000\n",
      "2019-12-04 10:08:09.741000\n",
      "2019-12-04 10:08:09.830000\n",
      "2019-12-04 10:08:09.932000\n",
      "2019-12-04 10:08:10.016000\n",
      "2019-12-04 10:08:10.088000\n",
      "2019-12-04 10:08:10.162000\n",
      "2019-12-04 10:08:10.235000\n",
      "2019-12-04 10:08:10.317000\n",
      "2019-12-04 10:08:10.410000\n",
      "2019-12-04 10:08:10.482000\n",
      "2019-12-04 10:08:10.550000\n",
      "2019-12-04 10:08:10.622000\n",
      "2019-12-04 10:08:10.697000\n",
      "2019-12-04 10:08:10.772000\n",
      "2019-12-04 10:08:10.862000\n",
      "2019-12-04 10:08:10.951000\n",
      "2019-12-04 10:08:11.042000\n",
      "2019-12-04 10:08:11.115000\n",
      "2019-12-04 10:08:11.193000\n",
      "2019-12-04 10:08:11.265000\n"
     ]
    }
   ],
   "source": [
    "el = ''\n",
    "for i,p in enumerate(reader):\n",
    "#     el = p\n",
    "    print(dt.fromtimestamp(p.datetime/1000))\n",
    "    if i==50:\n",
    "        break"
   ]
  },
  {
   "cell_type": "code",
   "execution_count": null,
   "metadata": {},
   "outputs": [],
   "source": []
  },
  {
   "cell_type": "code",
   "execution_count": 6,
   "metadata": {},
   "outputs": [
    {
     "data": {
      "text/plain": [
       "datetime.datetime(2019, 12, 4, 10, 8, 7, 339000)"
      ]
     },
     "execution_count": 6,
     "metadata": {},
     "output_type": "execute_result"
    }
   ],
   "source": [
    "import timeago\n",
    "from datetime import datetime as dt\n"
   ]
  },
  {
   "cell_type": "code",
   "execution_count": null,
   "metadata": {},
   "outputs": [],
   "source": []
  }
 ],
 "metadata": {
  "kernelspec": {
   "display_name": "Python 3.8.0 64-bit ('3.8.0': pyenv)",
   "language": "python",
   "name": "python38064bit380pyenvd6170fe0cd77433db7c61a8427799ead"
  },
  "language_info": {
   "codemirror_mode": {
    "name": "ipython",
    "version": 3
   },
   "file_extension": ".py",
   "mimetype": "text/x-python",
   "name": "python",
   "nbconvert_exporter": "python",
   "pygments_lexer": "ipython3",
   "version": "3.8.0"
  }
 },
 "nbformat": 4,
 "nbformat_minor": 4
}
