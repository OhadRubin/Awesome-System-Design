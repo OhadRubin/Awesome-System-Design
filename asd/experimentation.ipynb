{
 "cells": [
  {
   "cell_type": "markdown",
   "metadata": {},
   "source": [
    "curl -sS 'http://localhost:5000/config?name=ohad&user_id=1'"
   ]
  },
  {
   "cell_type": "code",
   "execution_count": 1,
   "metadata": {},
   "outputs": [],
   "source": [
    "# dir(protobuf3)"
   ]
  },
  {
   "cell_type": "code",
   "execution_count": 22,
   "metadata": {},
   "outputs": [],
   "source": [
    "import asd_pb2\n",
    "import gzip\n",
    "# import protobuf3\n",
    "import struct\n",
    "# print(dir(asd_pb2._USER))\n",
    "# print(\"\\n\".join(dir(asd_pb2.User)))\n",
    "class Reader:\n",
    "    def __init__(self, path=\"sample.mind.gz\"):\n",
    "        self._path  = path\n",
    "        self._read_user()\n",
    "        \n",
    "    def _read_user(self):\n",
    "        with gzip.open(self._path) as f:\n",
    "            user_msg_size = struct.unpack(\"I\",f.read(4))[0]\n",
    "            user_msg_bytes = f.read(user_msg_size)\n",
    "            user = asd_pb2.User.FromString(user_msg_bytes)\n",
    "            self.user_id = user.user_id\n",
    "            self.username = user.username\n",
    "            self.birthday = user.birthday\n",
    "                \n",
    "    def __iter__(self):\n",
    "        with gzip.open(self._path) as f:\n",
    "            user_msg_size = struct.unpack(\"I\",f.read(4))[0]\n",
    "            user_msg_bytes = f.read(user_msg_size)\n",
    "            while True:\n",
    "                msg_size = struct.unpack(\"I\",f.read(4))[0]\n",
    "                msg_bytes = f.read(msg_size)\n",
    "                snapshot = asd_pb2.Snapshot.FromString(msg_bytes)\n",
    "                yield snapshot\n"
   ]
  },
  {
   "cell_type": "code",
   "execution_count": 1,
   "metadata": {},
   "outputs": [],
   "source": []
  },
  {
   "cell_type": "code",
   "execution_count": 26,
   "metadata": {},
   "outputs": [],
   "source": [
    "import inspect\n",
    "\n",
    "\n",
    "import requests\n",
    "from reader import Reader\n",
    "import asd_pb2\n",
    "addr = \"http://localhost:5000\"\n",
    "reader = Reader()\n",
    "user_fields = {\"user_id\":reader.user_id,\"username\":reader.username,\n",
    "               \"birthday\":reader.birthday,\"gender\":reader.gender}\n",
    "user = asd_pb2.User(**user_fields)\n",
    "\n",
    "for i,snapshot in enumerate(reader):\n",
    "    resp_result = requests.get(f'{addr}/config',data=user_fields).json()\n",
    "    available_parsers = resp_result['parsers']\n",
    "    snapshot_fields = {\"color_image\":snapshot.color_image,\n",
    "                       \"pose\":snapshot.pose,\n",
    "                       \"depth_image\":snapshot.depth_image,\n",
    "                       \"feelings\":snapshot.feelings} \n",
    "    \n",
    "    snapshot = asd_pb2.Snapshot(**{parser_name:snapshot_fields[parser_name] \n",
    "                                   for parser_name in available_parsers})\n",
    "    packet = asd_pb2.Packet(snapshot=snapshot,user=user)\n",
    "    resp = requests.post(f'{addr}/config',data=packet.SerializeToString(),\n",
    "                         headers={'Content-Type': 'application/protobuf',\n",
    "                                  'Content-Length':  str(len(packet_b))})\n",
    "#     print(resp.json())\n",
    "#     print(a.depth_image.ByteSize())\n",
    "    if i==5:\n",
    "        break\n",
    "\n"
   ]
  },
  {
   "cell_type": "code",
   "execution_count": 14,
   "metadata": {},
   "outputs": [],
   "source": []
  },
  {
   "cell_type": "code",
   "execution_count": 18,
   "metadata": {},
   "outputs": [
    {
     "data": {
      "text/plain": [
       "{'data': {'user_id': 1, 'name': 'ohad', 'birthday': None, 'gender': None},\n",
       " 'parsers': ['pose', 'color_image', 'depth_image', 'feelings']}"
      ]
     },
     "execution_count": 18,
     "metadata": {},
     "output_type": "execute_result"
    }
   ],
   "source": [
    "r"
   ]
  },
  {
   "cell_type": "code",
   "execution_count": null,
   "metadata": {},
   "outputs": [],
   "source": []
  }
 ],
 "metadata": {
  "kernelspec": {
   "display_name": "Python 3",
   "language": "python",
   "name": "python3"
  },
  "language_info": {
   "codemirror_mode": {
    "name": "ipython",
    "version": 3
   },
   "file_extension": ".py",
   "mimetype": "text/x-python",
   "name": "python",
   "nbconvert_exporter": "python",
   "pygments_lexer": "ipython3",
   "version": "3.8.0"
  }
 },
 "nbformat": 4,
 "nbformat_minor": 4
}
