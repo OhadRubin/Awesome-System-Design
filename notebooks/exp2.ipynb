{
 "cells": [
  {
   "cell_type": "code",
   "execution_count": 2,
   "metadata": {},
   "outputs": [],
   "source": [
    "from asd.server import run_server"
   ]
  },
  {
   "cell_type": "code",
   "execution_count": 5,
   "metadata": {},
   "outputs": [
    {
     "name": "stdout",
     "output_type": "stream",
     "text": [
      "The sql extension is already loaded. To reload it, use:\n",
      "  %reload_ext sql\n",
      " * sqlite:///asd_dbs.sqlite\n",
      "   sqlite:///sqlalchemy_example.db\n",
      "(sqlite3.OperationalError) no such table: User\n",
      "[SQL: select * from User]\n",
      "(Background on this error at: http://sqlalche.me/e/e3q8)\n"
     ]
    }
   ],
   "source": []
  },
  {
   "cell_type": "code",
   "execution_count": 7,
   "metadata": {},
   "outputs": [
    {
     "name": "stdout",
     "output_type": "stream",
     "text": [
      " * sqlite:///sqlalchemy_example.db\n",
      "(sqlite3.OperationalError) no such table: Users\n",
      "[SQL: select * from Users]\n",
      "(Background on this error at: http://sqlalche.me/e/e3q8)\n"
     ]
    }
   ],
   "source": [
    "  "
   ]
  },
  {
   "cell_type": "code",
   "execution_count": 6,
   "metadata": {},
   "outputs": [
    {
     "name": "stdout",
     "output_type": "stream",
     "text": [
      " * sqlite:///sqlalchemy_example.db\n",
      "(sqlite3.OperationalError) no such table: Users\n",
      "[SQL: select * from Users]\n",
      "(Background on this error at: http://sqlalche.me/e/e3q8)\n"
     ]
    }
   ],
   "source": []
  },
  {
   "cell_type": "code",
   "execution_count": 16,
   "metadata": {},
   "outputs": [
    {
     "ename": "UnidentifiedImageError",
     "evalue": "cannot identify image file <_io.BytesIO object at 0x7f6fffd09d60>",
     "output_type": "error",
     "traceback": [
      "\u001b[0;31m---------------------------------------------------------------------------\u001b[0m",
      "\u001b[0;31mUnidentifiedImageError\u001b[0m                    Traceback (most recent call last)",
      "\u001b[0;32m<ipython-input-16-e84d24ed2763>\u001b[0m in \u001b[0;36m<module>\u001b[0;34m\u001b[0m\n\u001b[1;32m      9\u001b[0m \u001b[0;32mimport\u001b[0m \u001b[0mrequests\u001b[0m\u001b[0;34m\u001b[0m\u001b[0;34m\u001b[0m\u001b[0m\n\u001b[1;32m     10\u001b[0m \u001b[0mres\u001b[0m \u001b[0;34m=\u001b[0m \u001b[0mrequests\u001b[0m\u001b[0;34m.\u001b[0m\u001b[0mget\u001b[0m\u001b[0;34m(\u001b[0m\u001b[0;34m\"http://localhost:5000/users/42/snapshots/42_1575446887942/pose/data\"\u001b[0m\u001b[0;34m)\u001b[0m\u001b[0;34m\u001b[0m\u001b[0;34m\u001b[0m\u001b[0m\n\u001b[0;32m---> 11\u001b[0;31m \u001b[0mim\u001b[0m \u001b[0;34m=\u001b[0m \u001b[0mImage\u001b[0m\u001b[0;34m.\u001b[0m\u001b[0mopen\u001b[0m\u001b[0;34m(\u001b[0m\u001b[0mBytesIO\u001b[0m\u001b[0;34m(\u001b[0m\u001b[0mbase64\u001b[0m\u001b[0;34m.\u001b[0m\u001b[0mb64decode\u001b[0m\u001b[0;34m(\u001b[0m\u001b[0mres\u001b[0m\u001b[0;34m.\u001b[0m\u001b[0mjson\u001b[0m\u001b[0;34m(\u001b[0m\u001b[0;34m)\u001b[0m\u001b[0;34m[\u001b[0m\u001b[0;34m'res'\u001b[0m\u001b[0;34m]\u001b[0m\u001b[0;34m)\u001b[0m\u001b[0;34m)\u001b[0m\u001b[0;34m)\u001b[0m\u001b[0;34m\u001b[0m\u001b[0;34m\u001b[0m\u001b[0m\n\u001b[0m\u001b[1;32m     12\u001b[0m \u001b[0mimshow\u001b[0m\u001b[0;34m(\u001b[0m\u001b[0mnp\u001b[0m\u001b[0;34m.\u001b[0m\u001b[0masarray\u001b[0m\u001b[0;34m(\u001b[0m\u001b[0mim\u001b[0m\u001b[0;34m)\u001b[0m\u001b[0;34m)\u001b[0m\u001b[0;34m\u001b[0m\u001b[0;34m\u001b[0m\u001b[0m\n",
      "\u001b[0;32m~/.pyenv/versions/3.8.0/lib/python3.8/site-packages/PIL/Image.py\u001b[0m in \u001b[0;36mopen\u001b[0;34m(fp, mode)\u001b[0m\n\u001b[1;32m   2859\u001b[0m     \u001b[0;32mfor\u001b[0m \u001b[0mmessage\u001b[0m \u001b[0;32min\u001b[0m \u001b[0maccept_warnings\u001b[0m\u001b[0;34m:\u001b[0m\u001b[0;34m\u001b[0m\u001b[0;34m\u001b[0m\u001b[0m\n\u001b[1;32m   2860\u001b[0m         \u001b[0mwarnings\u001b[0m\u001b[0;34m.\u001b[0m\u001b[0mwarn\u001b[0m\u001b[0;34m(\u001b[0m\u001b[0mmessage\u001b[0m\u001b[0;34m)\u001b[0m\u001b[0;34m\u001b[0m\u001b[0;34m\u001b[0m\u001b[0m\n\u001b[0;32m-> 2861\u001b[0;31m     raise UnidentifiedImageError(\n\u001b[0m\u001b[1;32m   2862\u001b[0m         \u001b[0;34m\"cannot identify image file %r\"\u001b[0m \u001b[0;34m%\u001b[0m \u001b[0;34m(\u001b[0m\u001b[0mfilename\u001b[0m \u001b[0;32mif\u001b[0m \u001b[0mfilename\u001b[0m \u001b[0;32melse\u001b[0m \u001b[0mfp\u001b[0m\u001b[0;34m)\u001b[0m\u001b[0;34m\u001b[0m\u001b[0;34m\u001b[0m\u001b[0m\n\u001b[1;32m   2863\u001b[0m     )\n",
      "\u001b[0;31mUnidentifiedImageError\u001b[0m: cannot identify image file <_io.BytesIO object at 0x7f6fffd09d60>"
     ]
    }
   ],
   "source": [
    "%matplotlib inline\n",
    "import base64\n",
    "from PIL import Image\n",
    "from io import BytesIO\n",
    "from matplotlib.pyplot import imshow\n",
    "import numpy as np\n",
    "from PIL import Image\n",
    "import json\n",
    "import requests\n",
    "res = requests.get(\"http://localhost:5000/users/42/snapshots/42_1575446887942/depth_image/data\")\n",
    "im = Image.open(BytesIO(base64.b64decode(res.json()['res'])))\n",
    "im.save\n",
    "imshow(np.asarray(im))"
   ]
  },
  {
   "cell_type": "code",
   "execution_count": 1,
   "metadata": {},
   "outputs": [
    {
     "ename": "SyntaxError",
     "evalue": "invalid syntax (<ipython-input-1-c1d6a9ee91ee>, line 15)",
     "output_type": "error",
     "traceback": [
      "\u001b[0;36m  File \u001b[0;32m\"<ipython-input-1-c1d6a9ee91ee>\"\u001b[0;36m, line \u001b[0;32m15\u001b[0m\n\u001b[0;31m    requests.\u001b[0m\n\u001b[0m             ^\u001b[0m\n\u001b[0;31mSyntaxError\u001b[0m\u001b[0;31m:\u001b[0m invalid syntax\n"
     ]
    }
   ],
   "source": [
    "\n",
    "\n",
    "\n",
    "# im.save('image1.png', 'PNG')"
   ]
  },
  {
   "cell_type": "code",
   "execution_count": 3,
   "metadata": {},
   "outputs": [
    {
     "name": "stderr",
     "output_type": "stream",
     "text": [
      "Usage: 8000 [OPTIONS] [URL]\n",
      "Try \"8000 --help\" for help.\n",
      "\n",
      "Error: Got unexpected extra arguments (2 7 . 0 . 0 . 1)\n"
     ]
    },
    {
     "ename": "SystemExit",
     "evalue": "2",
     "output_type": "error",
     "traceback": [
      "An exception has occurred, use %tb to see the full traceback.\n",
      "\u001b[0;31mSystemExit\u001b[0m\u001b[0;31m:\u001b[0m 2\n"
     ]
    },
    {
     "name": "stderr",
     "output_type": "stream",
     "text": [
      "/home/ohadr/.pyenv/versions/3.8.0/lib/python3.8/site-packages/IPython/core/interactiveshell.py:3334: UserWarning: To exit: use 'exit', 'quit', or Ctrl-D.\n",
      "  warn(\"To exit: use 'exit', 'quit', or Ctrl-D.\", stacklevel=1)\n"
     ]
    }
   ],
   "source": [
    "run_server(\"127.0.0.1\",\"8000\",\"adas\")"
   ]
  },
  {
   "cell_type": "code",
   "execution_count": 34,
   "metadata": {},
   "outputs": [],
   "source": [
    "import asd.reader\n",
    "import numpy as np \n",
    "import numpy as np\n",
    "import seaborn as sns\n",
    "import matplotlib.pylab as plt\n",
    "\n",
    "\n",
    "# path = context.path('depth_image.jpg')\n",
    "el = dict(width=el.depth_image.width, height=el.depth_image.height, data=list(el.depth_image.data))\n",
    "data = np.array(el['data']).reshape([el['height'],el['width']])\n",
    "ax = sns.heatmap(data)\n",
    "x\n",
    "\n",
    "# plt.save(arr=ax,file=)"
   ]
  },
  {
   "cell_type": "code",
   "execution_count": 4,
   "metadata": {},
   "outputs": [],
   "source": [
    "from flask import Flask, request\n",
    "from flask_restful import Resource, Api\n",
    "from flask_restful import fields, marshal_with, reqparse, Resource\n",
    "import click\n",
    "from sqlalchemy import Column, DateTime, String, Integer, ForeignKey, func, Float\n",
    "from sqlalchemy.orm import relationship, backref\n",
    "from sqlalchemy.ext.declarative import declarative_base\n",
    "from sqlalchemy import create_engine\n",
    "from sqlalchemy.orm import sessionmaker\n",
    "import click\n",
    "from sqlalchemy import create_engine\n",
    "from sqlalchemy.orm import sessionmaker\n",
    "import click\n",
    "from asd.db import *\n",
    "from asd.db import User, Base, Snapshot, ColorImage, DepthImage, Pose, Feelings, create_db\n",
    "from asd import mq\n",
    "import json\n",
    "from datetime import datetime\n",
    "\n",
    "\n",
    "engine = create_engine(\"sqlite:///./data/asd.sqlite\")\n",
    "Base.metadata.bind = engine\n",
    "\n",
    "DBSession = sessionmaker(bind=engine)\n",
    "session = DBSession()\n",
    "\n",
    "\n",
    "user = session.query(User).all()"
   ]
  },
  {
   "cell_type": "code",
   "execution_count": 13,
   "metadata": {},
   "outputs": [
    {
     "data": {
      "text/plain": [
       "Table('user', MetaData(bind=Engine(sqlite:///./data/asd.sqlite)), Column('user_id', Integer(), table=<user>, primary_key=True, nullable=False), Column('username', String(), table=<user>), Column('birthday', String(), table=<user>), Column('gender', String(), table=<user>), schema=None)"
      ]
     },
     "execution_count": 13,
     "metadata": {},
     "output_type": "execute_result"
    }
   ],
   "source": [
    "user[0].__table__\n"
   ]
  },
  {
   "cell_type": "code",
   "execution_count": null,
   "metadata": {},
   "outputs": [],
   "source": [
    "import pika\n",
    "\n",
    "def connect2exchange(addr='localhost', exchange_name='packet'):\n",
    "    connection = pika.BlockingConnection(pika.ConnectionParameters(addr))\n",
    "    channel = connection.channel()\n",
    "    result = channel.queue_declare(queue='', exclusive=True)\n",
    "    channel.exchange_declare(exchange=exchange_name,\n",
    "                             exchange_type='fanout')\n",
    "    channel.queue_bind(exchange=exchange_name,\n",
    "                       queue=result.method.queue)\n",
    "    return channel, result.method.queue\n",
    "\n"
   ]
  },
  {
   "cell_type": "code",
   "execution_count": null,
   "metadata": {},
   "outputs": [],
   "source": [
    "    channel, _ = connect2exchange(addr=url)\n",
    "\n",
    "    def publish2exchange(packet):\n",
    "        channel.basic_publish(exchange='packet', routing_key='', body=packet)"
   ]
  },
  {
   "cell_type": "code",
   "execution_count": null,
   "metadata": {},
   "outputs": [],
   "source": [
    "@main.command('run-parser')\n",
    "@click.argument('parser_name')\n",
    "@click.argument('url')\n",
    "def run_parser_mq(parser_name, url):\n",
    "    def parse_f(channel, method, propreties, body):\n",
    "        res = run_parser(parser_name, packet=body)\n",
    "        return res\n",
    "    channel, queue_name = mq.connect2exchange(addr=url)\n",
    "    channel.basic_consume(\n",
    "        queue=queue_name, on_message_callback=parse_f, auto_ack=True)\n",
    "    channel.start_consuming()"
   ]
  },
  {
   "cell_type": "code",
   "execution_count": 3,
   "metadata": {},
   "outputs": [
    {
     "name": "stdout",
     "output_type": "stream",
     "text": [
      "1575446887339\n",
      "1575446887412\n",
      "1575446887476\n",
      "1575446887541\n"
     ]
    }
   ],
   "source": [
    "import asd.reader\n",
    "from asd.parsers import run_parser\n",
    "import asd.asd_pb2\n",
    "# from pyreto.temporary import temporary_directory\n",
    "# from pyreto.in_directory import in_directory\n",
    "import time\n",
    "total = set()\n",
    "reader = asd.reader.Reader(\"../sample.mind.gz\")\n",
    "for i,el in enumerate(reader):\n",
    "    print(el.datetime)\n",
    "#     break\n",
    "    if i==3:\n",
    "        break\n",
    "    \n",
    "#     total.add(el.datetime)\n",
    "#     assert i+1==len(total)\n",
    "#     time.sleep(1)\n",
    "#     if i==10:\n",
    "#         break"
   ]
  },
  {
   "cell_type": "code",
   "execution_count": null,
   "metadata": {},
   "outputs": [],
   "source": [
    "el = next(iter(reader))\n",
    "user = asd.asd_pb2.User(user_id=reader.user_id,\n",
    "                        username=reader.username,\n",
    "                        birthday=reader.birthday,\n",
    "                        gender=reader.gender)\n",
    "packet = asd.asd_pb2.Packet(snapshot=el,user=user).SerializeToString()\n",
    "result = run_parserr('pose', packet)\n",
    "result\n",
    "# print()\n",
    "# dir(el)"
   ]
  },
  {
   "cell_type": "code",
   "execution_count": 1,
   "metadata": {},
   "outputs": [
    {
     "name": "stdout",
     "output_type": "stream",
     "text": [
      "/home/ohadr/workspace/Courses/2019A/ASD/awesome-system-design/notebooks\n"
     ]
    }
   ],
   "source": [
    "!pwd"
   ]
  },
  {
   "cell_type": "code",
   "execution_count": 2,
   "metadata": {},
   "outputs": [
    {
     "name": "stdout",
     "output_type": "stream",
     "text": [
      "/home/ohadr/workspace/Courses/2019A/ASD/awesome-system-design\n"
     ]
    }
   ],
   "source": [
    "%cd .."
   ]
  },
  {
   "cell_type": "code",
   "execution_count": 1,
   "metadata": {},
   "outputs": [],
   "source": [
    "reader = asd.utils.reader.Reader(\"scaffolding_files/sample2.mind.gz\")\n",
    "\n",
    "# el = next(iter(reader))\n",
    "user = asd.utils.asd_pb2.User(user_id=reader.user_id,\n",
    "                        username=reader.username,\n",
    "                        birthday=reader.birthday,\n",
    "                        gender=reader.gender)\n",
    "packet = asd.utils.asd_pb2.Packet(snapshot=el, user=user).SerializeToString()\n",
    "with open('snapshot.raw', \"wb\") as f:\n",
    "    f.write(packet)"
   ]
  },
  {
   "cell_type": "code",
   "execution_count": 5,
   "metadata": {},
   "outputs": [],
   "source": [
    "import sh\n",
    "import pathlib"
   ]
  },
  {
   "cell_type": "code",
   "execution_count": 6,
   "metadata": {},
   "outputs": [
    {
     "data": {
      "text/plain": [
       "__init__.py  __pycache__"
      ]
     },
     "execution_count": 6,
     "metadata": {},
     "output_type": "execute_result"
    }
   ],
   "source": []
  },
  {
   "cell_type": "code",
   "execution_count": null,
   "metadata": {},
   "outputs": [],
   "source": [
    "from sqlalchemy import create_engine\n",
    "from sqlalchemy.orm import sessionmaker\n",
    " \n",
    "from asd.db import *\n",
    " \n",
    "engine = create_engine('sqlite:///./data/asd_db.sqlite')\n",
    "Base.metadata.bind = engine\n",
    " \n",
    "DBSession = sessionmaker(bind=engine)\n",
    "session = DBSession()\n",
    "user = User(id=1,username=\"hi\")\n",
    "session.add(user)\n",
    "session.commit()\n",
    " # session.\n",
    "\n",
    "# Insert an Address in the address table\n",
    "# new_address = Address(post_code='00000', person=new_person)\n",
    "# session.add(new_address)\n",
    "# session.commit()"
   ]
  },
  {
   "cell_type": "code",
   "execution_count": 1,
   "metadata": {},
   "outputs": [
    {
     "data": {
      "text/plain": [
       "'Connected: @./data/asd.sqlite'"
      ]
     },
     "execution_count": 1,
     "metadata": {},
     "output_type": "execute_result"
    }
   ],
   "source": [
    "# !pip install ipython-sql\n",
    "%load_ext sql\n",
    "%sql sqlite:///./data/asd.sqlite"
   ]
  },
  {
   "cell_type": "code",
   "execution_count": 2,
   "metadata": {},
   "outputs": [
    {
     "name": "stdout",
     "output_type": "stream",
     "text": [
      " * sqlite:///./data/asd.sqlite\n",
      "Done.\n"
     ]
    },
    {
     "data": {
      "text/html": [
       "<table>\n",
       "    <tr>\n",
       "        <th>snapshot_id</th>\n",
       "        <th>t_x</th>\n",
       "        <th>t_y</th>\n",
       "        <th>t_z</th>\n",
       "        <th>r_x</th>\n",
       "        <th>r_y</th>\n",
       "        <th>r_z</th>\n",
       "        <th>r_w</th>\n",
       "    </tr>\n",
       "    <tr>\n",
       "        <td>42_1575446887339</td>\n",
       "        <td>0.4873843491077423</td>\n",
       "        <td>0.007090016733855009</td>\n",
       "        <td>-1.1306129693984985</td>\n",
       "        <td>-0.10888676356214629</td>\n",
       "        <td>-0.26755994585035286</td>\n",
       "        <td>-0.021271118915446748</td>\n",
       "        <td>0.9571326384559261</td>\n",
       "    </tr>\n",
       "    <tr>\n",
       "        <td>42_1575446887412</td>\n",
       "        <td>0.15600797533988953</td>\n",
       "        <td>0.08133671432733536</td>\n",
       "        <td>-0.49068963527679443</td>\n",
       "        <td>-0.2959017411322204</td>\n",
       "        <td>-0.16749024140672616</td>\n",
       "        <td>-0.04752900380336424</td>\n",
       "        <td>0.9392178514199446</td>\n",
       "    </tr>\n",
       "    <tr>\n",
       "        <td>42_1575446887476</td>\n",
       "        <td>-0.05690298229455948</td>\n",
       "        <td>0.09136273711919785</td>\n",
       "        <td>-0.1454082578420639</td>\n",
       "        <td>-0.30262250114734884</td>\n",
       "        <td>0.024984587319575428</td>\n",
       "        <td>0.01379476785565966</td>\n",
       "        <td>0.9526831039624887</td>\n",
       "    </tr>\n",
       "    <tr>\n",
       "        <td>42_1575446887541</td>\n",
       "        <td>-0.06873919069766998</td>\n",
       "        <td>0.06515509635210037</td>\n",
       "        <td>0.20628340542316437</td>\n",
       "        <td>-0.2268025104015529</td>\n",
       "        <td>0.016296475938769883</td>\n",
       "        <td>0.034513309202044845</td>\n",
       "        <td>0.9731926210342198</td>\n",
       "    </tr>\n",
       "    <tr>\n",
       "        <td>42_1575446887603</td>\n",
       "        <td>-0.08363257348537445</td>\n",
       "        <td>0.03274262696504593</td>\n",
       "        <td>0.44446834921836853</td>\n",
       "        <td>-0.18523385018409705</td>\n",
       "        <td>-0.011889715927864218</td>\n",
       "        <td>0.01159230178272562</td>\n",
       "        <td>0.9825541582734808</td>\n",
       "    </tr>\n",
       "    <tr>\n",
       "        <td>42_1575446887662</td>\n",
       "        <td>-0.14546413719654083</td>\n",
       "        <td>0.04411502927541733</td>\n",
       "        <td>0.6741152405738831</td>\n",
       "        <td>-0.14703597056264828</td>\n",
       "        <td>-0.07644212208443549</td>\n",
       "        <td>-0.0010371202319277395</td>\n",
       "        <td>0.9861723732256713</td>\n",
       "    </tr>\n",
       "    <tr>\n",
       "        <td>42_1575446887734</td>\n",
       "        <td>-0.19135916233062744</td>\n",
       "        <td>0.023155376315116882</td>\n",
       "        <td>0.799641489982605</td>\n",
       "        <td>-0.13456878192554345</td>\n",
       "        <td>-0.12237689014071555</td>\n",
       "        <td>-0.017589459361069756</td>\n",
       "        <td>0.9831611010459822</td>\n",
       "    </tr>\n",
       "    <tr>\n",
       "        <td>42_1575446887805</td>\n",
       "        <td>-0.22374650835990906</td>\n",
       "        <td>0.013421453535556793</td>\n",
       "        <td>0.87867271900177</td>\n",
       "        <td>-0.13266594833912562</td>\n",
       "        <td>-0.19948256205156797</td>\n",
       "        <td>-0.032982923403582026</td>\n",
       "        <td>0.9703188034622313</td>\n",
       "    </tr>\n",
       "    <tr>\n",
       "        <td>42_1575446887871</td>\n",
       "        <td>-0.23167355358600616</td>\n",
       "        <td>0.01433754526078701</td>\n",
       "        <td>0.9281055927276611</td>\n",
       "        <td>-0.13991313652327955</td>\n",
       "        <td>-0.2881929171178327</td>\n",
       "        <td>-0.05063595434433929</td>\n",
       "        <td>0.9459414130267108</td>\n",
       "    </tr>\n",
       "    <tr>\n",
       "        <td>42_1575446887942</td>\n",
       "        <td>-0.20727911591529846</td>\n",
       "        <td>0.017360065132379532</td>\n",
       "        <td>0.957891047000885</td>\n",
       "        <td>-0.15349750937485307</td>\n",
       "        <td>-0.4019578492768366</td>\n",
       "        <td>-0.08094490656702721</td>\n",
       "        <td>0.8990641379352821</td>\n",
       "    </tr>\n",
       "    <tr>\n",
       "        <td>42_1575446888025</td>\n",
       "        <td>-0.1622769683599472</td>\n",
       "        <td>0.039505284279584885</td>\n",
       "        <td>0.9579522609710693</td>\n",
       "        <td>-0.18959464022279723</td>\n",
       "        <td>-0.6098560176018708</td>\n",
       "        <td>-0.1666371979699633</td>\n",
       "        <td>0.7512400112123249</td>\n",
       "    </tr>\n",
       "</table>"
      ],
      "text/plain": [
       "[('42_1575446887339', 0.4873843491077423, 0.007090016733855009, -1.1306129693984985, -0.10888676356214629, -0.26755994585035286, -0.021271118915446748, 0.9571326384559261),\n",
       " ('42_1575446887412', 0.15600797533988953, 0.08133671432733536, -0.49068963527679443, -0.2959017411322204, -0.16749024140672616, -0.04752900380336424, 0.9392178514199446),\n",
       " ('42_1575446887476', -0.05690298229455948, 0.09136273711919785, -0.1454082578420639, -0.30262250114734884, 0.024984587319575428, 0.01379476785565966, 0.9526831039624887),\n",
       " ('42_1575446887541', -0.06873919069766998, 0.06515509635210037, 0.20628340542316437, -0.2268025104015529, 0.016296475938769883, 0.034513309202044845, 0.9731926210342198),\n",
       " ('42_1575446887603', -0.08363257348537445, 0.03274262696504593, 0.44446834921836853, -0.18523385018409705, -0.011889715927864218, 0.01159230178272562, 0.9825541582734808),\n",
       " ('42_1575446887662', -0.14546413719654083, 0.04411502927541733, 0.6741152405738831, -0.14703597056264828, -0.07644212208443549, -0.0010371202319277395, 0.9861723732256713),\n",
       " ('42_1575446887734', -0.19135916233062744, 0.023155376315116882, 0.799641489982605, -0.13456878192554345, -0.12237689014071555, -0.017589459361069756, 0.9831611010459822),\n",
       " ('42_1575446887805', -0.22374650835990906, 0.013421453535556793, 0.87867271900177, -0.13266594833912562, -0.19948256205156797, -0.032982923403582026, 0.9703188034622313),\n",
       " ('42_1575446887871', -0.23167355358600616, 0.01433754526078701, 0.9281055927276611, -0.13991313652327955, -0.2881929171178327, -0.05063595434433929, 0.9459414130267108),\n",
       " ('42_1575446887942', -0.20727911591529846, 0.017360065132379532, 0.957891047000885, -0.15349750937485307, -0.4019578492768366, -0.08094490656702721, 0.8990641379352821),\n",
       " ('42_1575446888025', -0.1622769683599472, 0.039505284279584885, 0.9579522609710693, -0.18959464022279723, -0.6098560176018708, -0.1666371979699633, 0.7512400112123249)]"
      ]
     },
     "execution_count": 2,
     "metadata": {},
     "output_type": "execute_result"
    }
   ],
   "source": [
    "%sql select * from pose"
   ]
  },
  {
   "cell_type": "code",
   "execution_count": 12,
   "metadata": {},
   "outputs": [],
   "source": [
    "%sql select * from snapshot where snapshot_id=\"42_1575446887339\""
   ]
  },
  {
   "cell_type": "code",
   "execution_count": 7,
   "metadata": {},
   "outputs": [
    {
     "name": "stdout",
     "output_type": "stream",
     "text": [
      " * sqlite:///./data/asd.sqlite\n",
      "Done.\n"
     ]
    },
    {
     "data": {
      "text/html": [
       "<table>\n",
       "    <tr>\n",
       "        <th>snapshot_id</th>\n",
       "        <th>timestamp</th>\n",
       "    </tr>\n",
       "    <tr>\n",
       "        <td>42_1575446887339</td>\n",
       "        <td>1575446887339</td>\n",
       "    </tr>\n",
       "    <tr>\n",
       "        <td>42_1575446887412</td>\n",
       "        <td>1575446887412</td>\n",
       "    </tr>\n",
       "    <tr>\n",
       "        <td>42_1575446887476</td>\n",
       "        <td>1575446887476</td>\n",
       "    </tr>\n",
       "    <tr>\n",
       "        <td>42_1575446887541</td>\n",
       "        <td>1575446887541</td>\n",
       "    </tr>\n",
       "    <tr>\n",
       "        <td>42_1575446887603</td>\n",
       "        <td>1575446887603</td>\n",
       "    </tr>\n",
       "    <tr>\n",
       "        <td>42_1575446887662</td>\n",
       "        <td>1575446887662</td>\n",
       "    </tr>\n",
       "    <tr>\n",
       "        <td>42_1575446887734</td>\n",
       "        <td>1575446887734</td>\n",
       "    </tr>\n",
       "    <tr>\n",
       "        <td>42_1575446887805</td>\n",
       "        <td>1575446887805</td>\n",
       "    </tr>\n",
       "    <tr>\n",
       "        <td>42_1575446887871</td>\n",
       "        <td>1575446887871</td>\n",
       "    </tr>\n",
       "    <tr>\n",
       "        <td>42_1575446887942</td>\n",
       "        <td>1575446887942</td>\n",
       "    </tr>\n",
       "    <tr>\n",
       "        <td>42_1575446888025</td>\n",
       "        <td>1575446888025</td>\n",
       "    </tr>\n",
       "</table>"
      ],
      "text/plain": [
       "[('42_1575446887339', 1575446887339),\n",
       " ('42_1575446887412', 1575446887412),\n",
       " ('42_1575446887476', 1575446887476),\n",
       " ('42_1575446887541', 1575446887541),\n",
       " ('42_1575446887603', 1575446887603),\n",
       " ('42_1575446887662', 1575446887662),\n",
       " ('42_1575446887734', 1575446887734),\n",
       " ('42_1575446887805', 1575446887805),\n",
       " ('42_1575446887871', 1575446887871),\n",
       " ('42_1575446887942', 1575446887942),\n",
       " ('42_1575446888025', 1575446888025)]"
      ]
     },
     "execution_count": 7,
     "metadata": {},
     "output_type": "execute_result"
    }
   ],
   "source": [
    "%sql   SELECT distinct snapshot_id,timestamp FROM snapshot where user_id=42"
   ]
  },
  {
   "cell_type": "code",
   "execution_count": 11,
   "metadata": {},
   "outputs": [],
   "source": [
    "%sql select * from feelings"
   ]
  },
  {
   "cell_type": "code",
   "execution_count": 11,
   "metadata": {},
   "outputs": [
    {
     "name": "stdout",
     "output_type": "stream",
     "text": [
      " * sqlite:///./data/asd.sqlite\n",
      "Done.\n"
     ]
    },
    {
     "data": {
      "text/html": [
       "<table>\n",
       "    <tr>\n",
       "        <th>snapshot_id</th>\n",
       "        <th>hunger</th>\n",
       "        <th>thirst</th>\n",
       "        <th>exhaustion</th>\n",
       "        <th>happiness</th>\n",
       "    </tr>\n",
       "    <tr>\n",
       "        <td>42_1575446887339</td>\n",
       "        <td>0.0</td>\n",
       "        <td>0.0</td>\n",
       "        <td>0.0</td>\n",
       "        <td>0.0</td>\n",
       "    </tr>\n",
       "    <tr>\n",
       "        <td>42_1575446887412</td>\n",
       "        <td>0.0010000000474974513</td>\n",
       "        <td>0.003000000026077032</td>\n",
       "        <td>0.0020000000949949026</td>\n",
       "        <td>0.0</td>\n",
       "    </tr>\n",
       "    <tr>\n",
       "        <td>42_1575446887476</td>\n",
       "        <td>0.0020000000949949026</td>\n",
       "        <td>0.006000000052154064</td>\n",
       "        <td>0.004000000189989805</td>\n",
       "        <td>0.0</td>\n",
       "    </tr>\n",
       "    <tr>\n",
       "        <td>42_1575446887541</td>\n",
       "        <td>0.003000000026077032</td>\n",
       "        <td>0.008999999612569809</td>\n",
       "        <td>0.006000000052154064</td>\n",
       "        <td>0.0</td>\n",
       "    </tr>\n",
       "    <tr>\n",
       "        <td>42_1575446887603</td>\n",
       "        <td>0.004000000189989805</td>\n",
       "        <td>0.012000000104308128</td>\n",
       "        <td>0.00800000037997961</td>\n",
       "        <td>0.30000001192092896</td>\n",
       "    </tr>\n",
       "    <tr>\n",
       "        <td>42_1575446887662</td>\n",
       "        <td>0.004999999888241291</td>\n",
       "        <td>0.014999999664723873</td>\n",
       "        <td>0.009999999776482582</td>\n",
       "        <td>0.6000000238418579</td>\n",
       "    </tr>\n",
       "    <tr>\n",
       "        <td>42_1575446887734</td>\n",
       "        <td>0.006000000052154064</td>\n",
       "        <td>0.017999999225139618</td>\n",
       "        <td>0.012000000104308128</td>\n",
       "        <td>0.8999999761581421</td>\n",
       "    </tr>\n",
       "    <tr>\n",
       "        <td>42_1575446887805</td>\n",
       "        <td>0.007000000216066837</td>\n",
       "        <td>0.020999999716877937</td>\n",
       "        <td>0.014000000432133675</td>\n",
       "        <td>1.0</td>\n",
       "    </tr>\n",
       "    <tr>\n",
       "        <td>42_1575446887871</td>\n",
       "        <td>0.00800000037997961</td>\n",
       "        <td>0.024000000208616257</td>\n",
       "        <td>0.01600000075995922</td>\n",
       "        <td>0.699999988079071</td>\n",
       "    </tr>\n",
       "    <tr>\n",
       "        <td>42_1575446887942</td>\n",
       "        <td>0.008999999612569809</td>\n",
       "        <td>0.027000000700354576</td>\n",
       "        <td>0.017999999225139618</td>\n",
       "        <td>0.4000000059604645</td>\n",
       "    </tr>\n",
       "    <tr>\n",
       "        <td>42_1575446888025</td>\n",
       "        <td>0.009999999776482582</td>\n",
       "        <td>0.029999999329447746</td>\n",
       "        <td>0.019999999552965164</td>\n",
       "        <td>0.10000000149011612</td>\n",
       "    </tr>\n",
       "</table>"
      ],
      "text/plain": [
       "[('42_1575446887339', 0.0, 0.0, 0.0, 0.0),\n",
       " ('42_1575446887412', 0.0010000000474974513, 0.003000000026077032, 0.0020000000949949026, 0.0),\n",
       " ('42_1575446887476', 0.0020000000949949026, 0.006000000052154064, 0.004000000189989805, 0.0),\n",
       " ('42_1575446887541', 0.003000000026077032, 0.008999999612569809, 0.006000000052154064, 0.0),\n",
       " ('42_1575446887603', 0.004000000189989805, 0.012000000104308128, 0.00800000037997961, 0.30000001192092896),\n",
       " ('42_1575446887662', 0.004999999888241291, 0.014999999664723873, 0.009999999776482582, 0.6000000238418579),\n",
       " ('42_1575446887734', 0.006000000052154064, 0.017999999225139618, 0.012000000104308128, 0.8999999761581421),\n",
       " ('42_1575446887805', 0.007000000216066837, 0.020999999716877937, 0.014000000432133675, 1.0),\n",
       " ('42_1575446887871', 0.00800000037997961, 0.024000000208616257, 0.01600000075995922, 0.699999988079071),\n",
       " ('42_1575446887942', 0.008999999612569809, 0.027000000700354576, 0.017999999225139618, 0.4000000059604645),\n",
       " ('42_1575446888025', 0.009999999776482582, 0.029999999329447746, 0.019999999552965164, 0.10000000149011612)]"
      ]
     },
     "execution_count": 11,
     "metadata": {},
     "output_type": "execute_result"
    }
   ],
   "source": [
    "{\"res\": [{\"element_id\": 1, \"snapshot_id\": \"42_1575446887339\", \"timestamp\": 1575446887339, \"user_id\": 42, \"parser_name\": \"pose\", \"parser_id\": null}, {\"element_id\": 2, \"snapshot_id\": \"42_1575446887339\", \"timestamp\": 1575446887339, \"user_id\": 42, \"parser_name\": \"feelings\", \"parser_id\": null}, {\"element_id\": 3, \"snapshot_id\": \"42_1575446887412\", \"timestamp\": 1575446887412, \"user_id\": 42, \"parser_name\": \"pose\", \"parser_id\": null}, {\"element_id\": 4, \"snapshot_id\": \"42_1575446887412\", \"timestamp\": 1575446887412, \"user_id\": 42, \"parser_name\": \"feelings\", \"parser_id\": null}, {\"element_id\": 5, \"snapshot_id\": \"42_1575446887339\", \"timestamp\": 1575446887339, \"user_id\": 42, \"parser_name\": \"color_image\", \"parser_id\": null}, {\"element_id\": 6, \"snapshot_id\": \"42_1575446887476\", \"timestamp\": 1575446887476, \"user_id\": 42, \"parser_name\": \"pose\", \"parser_id\": null}, {\"element_id\": 7, \"snapshot_id\": \"42_1575446887476\", \"timestamp\": 1575446887476, \"user_id\": 42, \"parser_name\": \"feelings\", \"parser_id\": null}, {\"element_id\": 8, \"snapshot_id\": \"42_1575446887412\", \"timestamp\": 1575446887412, \"user_id\": 42, \"parser_name\": \"color_image\", \"parser_id\": null}, {\"element_id\": 9, \"snapshot_id\": \"42_1575446887541\", \"timestamp\": 1575446887541, \"user_id\": 42, \"parser_name\": \"pose\", \"parser_id\": null}, {\"element_id\": 10, \"snapshot_id\": \"42_1575446887541\", \"timestamp\": 1575446887541, \"user_id\": 42, \"parser_name\": \"feelings\", \"parser_id\": null}, {\"element_id\": 11, \"snapshot_id\": \"42_1575446887476\", \"timestamp\": 1575446887476, \"user_id\": 42, \"parser_name\": \"color_image\", \"parser_id\": null}, {\"element_id\": 12, \"snapshot_id\": \"42_1575446887603\", \"timestamp\": 1575446887603, \"user_id\": 42, \"parser_name\": \"feelings\", \"parser_id\": null}, {\"element_id\": 13, \"snapshot_id\": \"42_1575446887603\", \"timestamp\": 1575446887603, \"user_id\": 42, \"parser_name\": \"pose\", \"parser_id\": null}, {\"element_id\": 14, \"snapshot_id\": \"42_1575446887662\", \"timestamp\": 1575446887662, \"user_id\": 42, \"parser_name\": \"pose\", \"parser_id\": null}, {\"element_id\": 15, \"snapshot_id\": \"42_1575446887662\", \"timestamp\": 1575446887662, \"user_id\": 42, \"parser_name\": \"feelings\", \"parser_id\": null}, {\"element_id\": 16, \"snapshot_id\": \"42_1575446887541\", \"timestamp\": 1575446887541, \"user_id\": 42, \"parser_name\": \"color_image\", \"parser_id\": null}, {\"element_id\": 17, \"snapshot_id\": \"42_1575446887734\", \"timestamp\": 1575446887734, \"user_id\": 42, \"parser_name\": \"pose\", \"parser_id\": null}, {\"element_id\": 18, \"snapshot_id\": \"42_1575446887734\", \"timestamp\": 1575446887734, \"user_id\": 42, \"parser_name\": \"feelings\", \"parser_id\": null}, {\"element_id\": 19, \"snapshot_id\": \"42_1575446887603\", \"timestamp\": 1575446887603, \"user_id\": 42, \"parser_name\": \"color_image\", \"parser_id\": null}, {\"element_id\": 20, \"snapshot_id\": \"42_1575446887339\", \"timestamp\": 1575446887339, \"user_id\": 42, \"parser_name\": \"depth_image\", \"parser_id\": null}, {\"element_id\": 21, \"snapshot_id\": \"42_1575446887805\", \"timestamp\": 1575446887805, \"user_id\": 42, \"parser_name\": \"pose\", \"parser_id\": null}, {\"element_id\": 22, \"snapshot_id\": \"42_1575446887662\", \"timestamp\": 1575446887662, \"user_id\": 42, \"parser_name\": \"color_image\", \"parser_id\": null}, {\"element_id\": 23, \"snapshot_id\": \"42_1575446887805\", \"timestamp\": 1575446887805, \"user_id\": 42, \"parser_name\": \"feelings\", \"parser_id\": null}, {\"element_id\": 24, \"snapshot_id\": \"42_1575446887871\", \"timestamp\": 1575446887871, \"user_id\": 42, \"parser_name\": \"pose\", \"parser_id\": null}, {\"element_id\": 25, \"snapshot_id\": \"42_1575446887871\", \"timestamp\": 1575446887871, \"user_id\": 42, \"parser_name\": \"feelings\", \"parser_id\": null}, {\"element_id\": 26, \"snapshot_id\": \"42_1575446887734\", \"timestamp\": 1575446887734, \"user_id\": 42, \"parser_name\": \"color_image\", \"parser_id\": null}, {\"element_id\": 27, \"snapshot_id\": \"42_1575446887942\", \"timestamp\": 1575446887942, \"user_id\": 42, \"parser_name\": \"feelings\", \"parser_id\": null}, {\"element_id\": 28, \"snapshot_id\": \"42_1575446887942\", \"timestamp\": 1575446887942, \"user_id\": 42, \"parser_name\": \"pose\", \"parser_id\": null}, {\"element_id\": 29, \"snapshot_id\": \"42_1575446887805\", \"timestamp\": 1575446887805, \"user_id\": 42, \"parser_name\": \"color_image\", \"parser_id\": null}, {\"element_id\": 30, \"snapshot_id\": \"42_1575446888025\", \"timestamp\": 1575446888025, \"user_id\": 42, \"parser_name\": \"feelings\", \"parser_id\": null}, {\"element_id\": 31, \"snapshot_id\": \"42_1575446888025\", \"timestamp\": 1575446888025, \"user_id\": 42, \"parser_name\": \"pose\", \"parser_id\": null}, {\"element_id\": 32, \"snapshot_id\": \"42_1575446887871\", \"timestamp\": 1575446887871, \"user_id\": 42, \"parser_name\": \"color_image\", \"parser_id\": null}, {\"element_id\": 33, \"snapshot_id\": \"42_1575446887942\", \"timestamp\": 1575446887942, \"user_id\": 42, \"parser_name\": \"color_image\", \"parser_id\": null}, {\"element_id\": 34, \"snapshot_id\": \"42_1575446887412\", \"timestamp\": 1575446887412, \"user_id\": 42, \"parser_name\": \"depth_image\", \"parser_id\": null}, {\"element_id\": 35, \"snapshot_id\": \"42_1575446888025\", \"timestamp\": 1575446888025, \"user_id\": 42, \"parser_name\": \"color_image\", \"parser_id\": null}, {\"element_id\": 36, \"snapshot_id\": \"42_1575446887476\", \"timestamp\": 1575446887476, \"user_id\": 42, \"parser_name\": \"depth_image\", \"parser_id\": null}, {\"element_id\": 37, \"snapshot_id\": \"42_1575446887541\", \"timestamp\": 1575446887541, \"user_id\": 42, \"parser_name\": \"depth_image\", \"parser_id\": null}, {\"element_id\": 38, \"snapshot_id\": \"42_1575446887603\", \"timestamp\": 1575446887603, \"user_id\": 42, \"parser_name\": \"depth_image\", \"parser_id\": null}, {\"element_id\": 39, \"snapshot_id\": \"42_1575446887662\", \"timestamp\": 1575446887662, \"user_id\": 42, \"parser_name\": \"depth_image\", \"parser_id\": null}, {\"element_id\": 40, \"snapshot_id\": \"42_1575446887734\", \"timestamp\": 1575446887734, \"user_id\": 42, \"parser_name\": \"depth_image\", \"parser_id\": null}, {\"element_id\": 41, \"snapshot_id\": \"42_1575446887805\", \"timestamp\": 1575446887805, \"user_id\": 42, \"parser_name\": \"depth_image\", \"parser_id\": null}, {\"element_id\": 42, \"snapshot_id\": \"42_1575446887871\", \"timestamp\": 1575446887871, \"user_id\": 42, \"parser_name\": \"depth_image\", \"parser_id\": null}, {\"element_id\": 43, \"snapshot_id\": \"42_1575446887942\", \"timestamp\": 1575446887942, \"user_id\": 42, \"parser_name\": \"depth_image\", \"parser_id\": null}, {\"element_id\": 44, \"snapshot_id\": \"42_1575446888025\", \"timestamp\": 1575446888025, \"user_id\": 42, \"parser_name\": \"depth_image\", \"parser_id\": null}]}\n"
   ]
  },
  {
   "cell_type": "code",
   "execution_count": 5,
   "metadata": {},
   "outputs": [
    {
     "name": "stdout",
     "output_type": "stream",
     "text": [
      " * sqlite:///./data/asd.sqlite\n",
      "Done.\n"
     ]
    },
    {
     "data": {
      "text/html": [
       "<table>\n",
       "    <tr>\n",
       "        <th>user_id</th>\n",
       "        <th>username</th>\n",
       "        <th>birthday</th>\n",
       "        <th>gender</th>\n",
       "    </tr>\n",
       "    <tr>\n",
       "        <td>42</td>\n",
       "        <td>Dan Gittik</td>\n",
       "        <td>699746400</td>\n",
       "        <td>0</td>\n",
       "    </tr>\n",
       "</table>"
      ],
      "text/plain": [
       "[(42, 'Dan Gittik', '699746400', '0')]"
      ]
     },
     "execution_count": 5,
     "metadata": {},
     "output_type": "execute_result"
    }
   ],
   "source": [
    "%sql select * from user"
   ]
  },
  {
   "cell_type": "code",
   "execution_count": 7,
   "metadata": {},
   "outputs": [],
   "source": [
    "%sql select * from depth_image"
   ]
  },
  {
   "cell_type": "code",
   "execution_count": 8,
   "metadata": {},
   "outputs": [
    {
     "name": "stdout",
     "output_type": "stream",
     "text": [
      " * sqlite:///asd_db.sqlite\n",
      "Done.\n"
     ]
    },
    {
     "data": {
      "text/html": [
       "<table>\n",
       "    <tr>\n",
       "        <th>snapshot_id</th>\n",
       "        <th>path</th>\n",
       "        <th>width</th>\n",
       "        <th>height</th>\n",
       "    </tr>\n",
       "    <tr>\n",
       "        <td>42_1575446887339</td>\n",
       "        <td>data/42/1575446887339/color_image.jpg</td>\n",
       "        <td>1920</td>\n",
       "        <td>1080</td>\n",
       "    </tr>\n",
       "    <tr>\n",
       "        <td>42_1575446887412</td>\n",
       "        <td>data/42/1575446887412/color_image.jpg</td>\n",
       "        <td>1920</td>\n",
       "        <td>1080</td>\n",
       "    </tr>\n",
       "    <tr>\n",
       "        <td>42_1575446887476</td>\n",
       "        <td>data/42/1575446887476/color_image.jpg</td>\n",
       "        <td>1920</td>\n",
       "        <td>1080</td>\n",
       "    </tr>\n",
       "    <tr>\n",
       "        <td>42_1575446887541</td>\n",
       "        <td>data/42/1575446887541/color_image.jpg</td>\n",
       "        <td>1920</td>\n",
       "        <td>1080</td>\n",
       "    </tr>\n",
       "    <tr>\n",
       "        <td>42_1575446887603</td>\n",
       "        <td>data/42/1575446887603/color_image.jpg</td>\n",
       "        <td>1920</td>\n",
       "        <td>1080</td>\n",
       "    </tr>\n",
       "    <tr>\n",
       "        <td>42_1575446887662</td>\n",
       "        <td>data/42/1575446887662/color_image.jpg</td>\n",
       "        <td>1920</td>\n",
       "        <td>1080</td>\n",
       "    </tr>\n",
       "    <tr>\n",
       "        <td>42_1575446887734</td>\n",
       "        <td>data/42/1575446887734/color_image.jpg</td>\n",
       "        <td>1920</td>\n",
       "        <td>1080</td>\n",
       "    </tr>\n",
       "    <tr>\n",
       "        <td>42_1575446887805</td>\n",
       "        <td>data/42/1575446887805/color_image.jpg</td>\n",
       "        <td>1920</td>\n",
       "        <td>1080</td>\n",
       "    </tr>\n",
       "    <tr>\n",
       "        <td>42_1575446887871</td>\n",
       "        <td>data/42/1575446887871/color_image.jpg</td>\n",
       "        <td>1920</td>\n",
       "        <td>1080</td>\n",
       "    </tr>\n",
       "    <tr>\n",
       "        <td>42_1575446887942</td>\n",
       "        <td>data/42/1575446887942/color_image.jpg</td>\n",
       "        <td>1920</td>\n",
       "        <td>1080</td>\n",
       "    </tr>\n",
       "    <tr>\n",
       "        <td>42_1575446888025</td>\n",
       "        <td>data/42/1575446888025/color_image.jpg</td>\n",
       "        <td>1920</td>\n",
       "        <td>1080</td>\n",
       "    </tr>\n",
       "</table>"
      ],
      "text/plain": [
       "[('42_1575446887339', 'data/42/1575446887339/color_image.jpg', 1920, 1080),\n",
       " ('42_1575446887412', 'data/42/1575446887412/color_image.jpg', 1920, 1080),\n",
       " ('42_1575446887476', 'data/42/1575446887476/color_image.jpg', 1920, 1080),\n",
       " ('42_1575446887541', 'data/42/1575446887541/color_image.jpg', 1920, 1080),\n",
       " ('42_1575446887603', 'data/42/1575446887603/color_image.jpg', 1920, 1080),\n",
       " ('42_1575446887662', 'data/42/1575446887662/color_image.jpg', 1920, 1080),\n",
       " ('42_1575446887734', 'data/42/1575446887734/color_image.jpg', 1920, 1080),\n",
       " ('42_1575446887805', 'data/42/1575446887805/color_image.jpg', 1920, 1080),\n",
       " ('42_1575446887871', 'data/42/1575446887871/color_image.jpg', 1920, 1080),\n",
       " ('42_1575446887942', 'data/42/1575446887942/color_image.jpg', 1920, 1080),\n",
       " ('42_1575446888025', 'data/42/1575446888025/color_image.jpg', 1920, 1080)]"
      ]
     },
     "execution_count": 8,
     "metadata": {},
     "output_type": "execute_result"
    }
   ],
   "source": [
    "%sql select * from color_image"
   ]
  },
  {
   "cell_type": "code",
   "execution_count": 26,
   "metadata": {},
   "outputs": [
    {
     "name": "stdout",
     "output_type": "stream",
     "text": [
      "<asd.db.User object at 0x7f2c58e5dd60>\n",
      "<asd.db.User object at 0x7f2c58e5d520>\n"
     ]
    }
   ],
   "source": [
    "from sqlalchemy import create_engine\n",
    "from sqlalchemy.orm import sessionmaker\n",
    "import click\n",
    "from asd.db import *\n",
    "from asd.db import User, Base, Snapshot, ColorImage, DepthImage, Pose, Feelings\n",
    "from asd import mq\n",
    "import json\n",
    "engine = create_engine('sqlite:///asd_db.sqlite')\n",
    "Base.metadata.bind = engine\n",
    "\n",
    "DBSession = sessionmaker(bind=engine)\n",
    "session = DBSession()\n",
    "for x in session.query(User):\n",
    "    print(x)"
   ]
  },
  {
   "cell_type": "code",
   "execution_count": null,
   "metadata": {},
   "outputs": [],
   "source": [
    "# session.query(User).filter(User.user_id == data['user']['user_id']).first()"
   ]
  },
  {
   "cell_type": "code",
   "execution_count": 25,
   "metadata": {},
   "outputs": [
    {
     "name": "stdout",
     "output_type": "stream",
     "text": [
      "<asd.db.User object at 0x7f2c59dd24f0>\n",
      "<asd.db.User object at 0x7f2c58fa36d0>\n"
     ]
    }
   ],
   "source": []
  },
  {
   "cell_type": "code",
   "execution_count": 5,
   "metadata": {},
   "outputs": [
    {
     "ename": "NameError",
     "evalue": "name 'session' is not defined",
     "output_type": "error",
     "traceback": [
      "\u001b[0;31m---------------------------------------------------------------------------\u001b[0m",
      "\u001b[0;31mNameError\u001b[0m                                 Traceback (most recent call last)",
      "\u001b[0;32m<ipython-input-5-a8e1f37ccd2d>\u001b[0m in \u001b[0;36m<module>\u001b[0;34m\u001b[0m\n\u001b[0;32m----> 1\u001b[0;31m \u001b[0ma\u001b[0m\u001b[0;34m=\u001b[0m\u001b[0msession\u001b[0m\u001b[0;34m.\u001b[0m\u001b[0mquery\u001b[0m\u001b[0;34m(\u001b[0m\u001b[0mUser\u001b[0m\u001b[0;34m)\u001b[0m\u001b[0;34m.\u001b[0m\u001b[0mfirst\u001b[0m\u001b[0;34m(\u001b[0m\u001b[0;34m)\u001b[0m\u001b[0;34m\u001b[0m\u001b[0;34m\u001b[0m\u001b[0m\n\u001b[0m\u001b[1;32m      2\u001b[0m \u001b[0mdir\u001b[0m\u001b[0;34m(\u001b[0m\u001b[0ma\u001b[0m\u001b[0;34m)\u001b[0m\u001b[0;34m\u001b[0m\u001b[0;34m\u001b[0m\u001b[0m\n\u001b[1;32m      3\u001b[0m \u001b[0ma\u001b[0m\u001b[0;34m.\u001b[0m\u001b[0mbirthday\u001b[0m\u001b[0;34m,\u001b[0m\u001b[0ma\u001b[0m\u001b[0;34m.\u001b[0m\u001b[0mgender\u001b[0m\u001b[0;34m,\u001b[0m\u001b[0ma\u001b[0m\u001b[0;34m.\u001b[0m\u001b[0mid\u001b[0m\u001b[0;34m,\u001b[0m\u001b[0ma\u001b[0m\u001b[0;34m.\u001b[0m\u001b[0musername\u001b[0m\u001b[0;34m\u001b[0m\u001b[0;34m\u001b[0m\u001b[0m\n",
      "\u001b[0;31mNameError\u001b[0m: name 'session' is not defined"
     ]
    }
   ],
   "source": [
    "dir(a)\n",
    "a.birthday,a.gender,a.id,a.username"
   ]
  },
  {
   "cell_type": "code",
   "execution_count": 1,
   "metadata": {},
   "outputs": [],
   "source": [
    "    message Translation {\n",
    "        double x = 1;\n",
    "        double y = 2;\n",
    "        double z = 3;\n",
    "    }\n",
    "    message Rotation {\n",
    "        double x = 1;\n",
    "        double y = 2;\n",
    "        double z = 3;\n",
    "        double w = 4;"
   ]
  },
  {
   "cell_type": "code",
   "execution_count": 7,
   "metadata": {},
   "outputs": [],
   "source": [
    "# from pyreto import usercustomize\n",
    "import os\n",
    "from pyreto.collection_importer import install_collection\n",
    "\n",
    "import sh\n",
    "s = str(sh.pwd()).strip()\n",
    "print(s)\n",
    "collection_path = os.path.dirname(os.path.abspath(s))\n",
    "install_collection(collection_path)\n",
    "\n",
    "\n",
    "# name = \"in_directory.py\".strip('.py')\n",
    "# if Path like : \"path/python/file.py\" \n",
    "# use name.replaces(\"/\",\".\")\n",
    "\n",
    "# imp = import_module(\"pyreto.in_directory\")\n",
    "\n",
    "# __import__(\"/pyreto/in_directory\")\n",
    "# dir(collection_importer)"
   ]
  },
  {
   "cell_type": "code",
   "execution_count": null,
   "metadata": {},
   "outputs": [],
   "source": [
    "globals()"
   ]
  },
  {
   "cell_type": "code",
   "execution_count": 10,
   "metadata": {},
   "outputs": [
    {
     "ename": "ModuleNotFoundError",
     "evalue": "No module named 'in_directory'",
     "output_type": "error",
     "traceback": [
      "\u001b[0;31m---------------------------------------------------------------------------\u001b[0m",
      "\u001b[0;31mModuleNotFoundError\u001b[0m                       Traceback (most recent call last)",
      "\u001b[0;32m<ipython-input-10-7b414fcd215c>\u001b[0m in \u001b[0;36m<module>\u001b[0;34m\u001b[0m\n\u001b[1;32m      1\u001b[0m \u001b[0;31m# from pyreto.in_directory import in_directory\u001b[0m\u001b[0;34m\u001b[0m\u001b[0;34m\u001b[0m\u001b[0;34m\u001b[0m\u001b[0m\n\u001b[1;32m      2\u001b[0m \u001b[0;31m# dir(pyreto.in_directory)\u001b[0m\u001b[0;34m\u001b[0m\u001b[0;34m\u001b[0m\u001b[0;34m\u001b[0m\u001b[0m\n\u001b[0;32m----> 3\u001b[0;31m \u001b[0;32mimport\u001b[0m \u001b[0min_directory\u001b[0m\u001b[0;34m\u001b[0m\u001b[0;34m\u001b[0m\u001b[0m\n\u001b[0m",
      "\u001b[0;31mModuleNotFoundError\u001b[0m: No module named 'in_directory'"
     ]
    }
   ],
   "source": [
    "# from pyreto.in_directory import in_directory \n",
    "# dir(pyreto.in_directory)\n",
    "import in_directory"
   ]
  },
  {
   "cell_type": "code",
   "execution_count": null,
   "metadata": {},
   "outputs": [],
   "source": [
    "import numpy\n",
    "dir(numpy)"
   ]
  },
  {
   "cell_type": "code",
   "execution_count": 5,
   "metadata": {},
   "outputs": [],
   "source": [
    "for a in :\n",
    "    pass"
   ]
  },
  {
   "cell_type": "code",
   "execution_count": 8,
   "metadata": {},
   "outputs": [],
   "source": []
  },
  {
   "cell_type": "code",
   "execution_count": null,
   "metadata": {},
   "outputs": [],
   "source": []
  },
  {
   "cell_type": "code",
   "execution_count": 2,
   "metadata": {},
   "outputs": [
    {
     "ename": "JSONDecodeError",
     "evalue": "Expecting value: line 1 column 1 (char 0)",
     "output_type": "error",
     "traceback": [
      "\u001b[0;31m---------------------------------------------------------------------------\u001b[0m",
      "\u001b[0;31mJSONDecodeError\u001b[0m                           Traceback (most recent call last)",
      "\u001b[0;32m<ipython-input-2-e7093f77ec37>\u001b[0m in \u001b[0;36m<module>\u001b[0;34m\u001b[0m\n\u001b[0;32m----> 1\u001b[0;31m \u001b[0mupload_sample\u001b[0m\u001b[0;34m(\u001b[0m\u001b[0;34m)\u001b[0m\u001b[0;34m\u001b[0m\u001b[0;34m\u001b[0m\u001b[0m\n\u001b[0m",
      "\u001b[0;32m<ipython-input-1-b15f4a116ebc>\u001b[0m in \u001b[0;36mupload_sample\u001b[0;34m(host, port, path)\u001b[0m\n\u001b[1;32m     15\u001b[0m \u001b[0;34m\u001b[0m\u001b[0m\n\u001b[1;32m     16\u001b[0m     \u001b[0;32mfor\u001b[0m \u001b[0mi\u001b[0m\u001b[0;34m,\u001b[0m \u001b[0msnapshot\u001b[0m \u001b[0;32min\u001b[0m \u001b[0menumerate\u001b[0m\u001b[0;34m(\u001b[0m\u001b[0mreader\u001b[0m\u001b[0;34m)\u001b[0m\u001b[0;34m:\u001b[0m\u001b[0;34m\u001b[0m\u001b[0;34m\u001b[0m\u001b[0m\n\u001b[0;32m---> 17\u001b[0;31m         \u001b[0mresp_result\u001b[0m \u001b[0;34m=\u001b[0m \u001b[0mrequests\u001b[0m\u001b[0;34m.\u001b[0m\u001b[0mget\u001b[0m\u001b[0;34m(\u001b[0m\u001b[0;34mf'{addr}/config'\u001b[0m\u001b[0;34m,\u001b[0m \u001b[0mdata\u001b[0m\u001b[0;34m=\u001b[0m\u001b[0muser_fields\u001b[0m\u001b[0;34m)\u001b[0m\u001b[0;34m.\u001b[0m\u001b[0mjson\u001b[0m\u001b[0;34m(\u001b[0m\u001b[0;34m)\u001b[0m\u001b[0;34m\u001b[0m\u001b[0;34m\u001b[0m\u001b[0m\n\u001b[0m\u001b[1;32m     18\u001b[0m         \u001b[0mavailable_parsers\u001b[0m \u001b[0;34m=\u001b[0m \u001b[0mresp_result\u001b[0m\u001b[0;34m[\u001b[0m\u001b[0;34m'parsers'\u001b[0m\u001b[0;34m]\u001b[0m\u001b[0;34m\u001b[0m\u001b[0;34m\u001b[0m\u001b[0m\n\u001b[1;32m     19\u001b[0m         snapshot_fields = {\"color_image\": snapshot.color_image,\n",
      "\u001b[0;32m~/.pyenv/versions/3.8.0/lib/python3.8/site-packages/requests/models.py\u001b[0m in \u001b[0;36mjson\u001b[0;34m(self, **kwargs)\u001b[0m\n\u001b[1;32m    895\u001b[0m                     \u001b[0;31m# used.\u001b[0m\u001b[0;34m\u001b[0m\u001b[0;34m\u001b[0m\u001b[0;34m\u001b[0m\u001b[0m\n\u001b[1;32m    896\u001b[0m                     \u001b[0;32mpass\u001b[0m\u001b[0;34m\u001b[0m\u001b[0;34m\u001b[0m\u001b[0m\n\u001b[0;32m--> 897\u001b[0;31m         \u001b[0;32mreturn\u001b[0m \u001b[0mcomplexjson\u001b[0m\u001b[0;34m.\u001b[0m\u001b[0mloads\u001b[0m\u001b[0;34m(\u001b[0m\u001b[0mself\u001b[0m\u001b[0;34m.\u001b[0m\u001b[0mtext\u001b[0m\u001b[0;34m,\u001b[0m \u001b[0;34m**\u001b[0m\u001b[0mkwargs\u001b[0m\u001b[0;34m)\u001b[0m\u001b[0;34m\u001b[0m\u001b[0;34m\u001b[0m\u001b[0m\n\u001b[0m\u001b[1;32m    898\u001b[0m \u001b[0;34m\u001b[0m\u001b[0m\n\u001b[1;32m    899\u001b[0m     \u001b[0;34m@\u001b[0m\u001b[0mproperty\u001b[0m\u001b[0;34m\u001b[0m\u001b[0;34m\u001b[0m\u001b[0m\n",
      "\u001b[0;32m~/.pyenv/versions/3.8.0/lib/python3.8/json/__init__.py\u001b[0m in \u001b[0;36mloads\u001b[0;34m(s, cls, object_hook, parse_float, parse_int, parse_constant, object_pairs_hook, **kw)\u001b[0m\n\u001b[1;32m    355\u001b[0m             \u001b[0mparse_int\u001b[0m \u001b[0;32mis\u001b[0m \u001b[0;32mNone\u001b[0m \u001b[0;32mand\u001b[0m \u001b[0mparse_float\u001b[0m \u001b[0;32mis\u001b[0m \u001b[0;32mNone\u001b[0m \u001b[0;32mand\u001b[0m\u001b[0;34m\u001b[0m\u001b[0;34m\u001b[0m\u001b[0m\n\u001b[1;32m    356\u001b[0m             parse_constant is None and object_pairs_hook is None and not kw):\n\u001b[0;32m--> 357\u001b[0;31m         \u001b[0;32mreturn\u001b[0m \u001b[0m_default_decoder\u001b[0m\u001b[0;34m.\u001b[0m\u001b[0mdecode\u001b[0m\u001b[0;34m(\u001b[0m\u001b[0ms\u001b[0m\u001b[0;34m)\u001b[0m\u001b[0;34m\u001b[0m\u001b[0;34m\u001b[0m\u001b[0m\n\u001b[0m\u001b[1;32m    358\u001b[0m     \u001b[0;32mif\u001b[0m \u001b[0mcls\u001b[0m \u001b[0;32mis\u001b[0m \u001b[0;32mNone\u001b[0m\u001b[0;34m:\u001b[0m\u001b[0;34m\u001b[0m\u001b[0;34m\u001b[0m\u001b[0m\n\u001b[1;32m    359\u001b[0m         \u001b[0mcls\u001b[0m \u001b[0;34m=\u001b[0m \u001b[0mJSONDecoder\u001b[0m\u001b[0;34m\u001b[0m\u001b[0;34m\u001b[0m\u001b[0m\n",
      "\u001b[0;32m~/.pyenv/versions/3.8.0/lib/python3.8/json/decoder.py\u001b[0m in \u001b[0;36mdecode\u001b[0;34m(self, s, _w)\u001b[0m\n\u001b[1;32m    335\u001b[0m \u001b[0;34m\u001b[0m\u001b[0m\n\u001b[1;32m    336\u001b[0m         \"\"\"\n\u001b[0;32m--> 337\u001b[0;31m         \u001b[0mobj\u001b[0m\u001b[0;34m,\u001b[0m \u001b[0mend\u001b[0m \u001b[0;34m=\u001b[0m \u001b[0mself\u001b[0m\u001b[0;34m.\u001b[0m\u001b[0mraw_decode\u001b[0m\u001b[0;34m(\u001b[0m\u001b[0ms\u001b[0m\u001b[0;34m,\u001b[0m \u001b[0midx\u001b[0m\u001b[0;34m=\u001b[0m\u001b[0m_w\u001b[0m\u001b[0;34m(\u001b[0m\u001b[0ms\u001b[0m\u001b[0;34m,\u001b[0m \u001b[0;36m0\u001b[0m\u001b[0;34m)\u001b[0m\u001b[0;34m.\u001b[0m\u001b[0mend\u001b[0m\u001b[0;34m(\u001b[0m\u001b[0;34m)\u001b[0m\u001b[0;34m)\u001b[0m\u001b[0;34m\u001b[0m\u001b[0;34m\u001b[0m\u001b[0m\n\u001b[0m\u001b[1;32m    338\u001b[0m         \u001b[0mend\u001b[0m \u001b[0;34m=\u001b[0m \u001b[0m_w\u001b[0m\u001b[0;34m(\u001b[0m\u001b[0ms\u001b[0m\u001b[0;34m,\u001b[0m \u001b[0mend\u001b[0m\u001b[0;34m)\u001b[0m\u001b[0;34m.\u001b[0m\u001b[0mend\u001b[0m\u001b[0;34m(\u001b[0m\u001b[0;34m)\u001b[0m\u001b[0;34m\u001b[0m\u001b[0;34m\u001b[0m\u001b[0m\n\u001b[1;32m    339\u001b[0m         \u001b[0;32mif\u001b[0m \u001b[0mend\u001b[0m \u001b[0;34m!=\u001b[0m \u001b[0mlen\u001b[0m\u001b[0;34m(\u001b[0m\u001b[0ms\u001b[0m\u001b[0;34m)\u001b[0m\u001b[0;34m:\u001b[0m\u001b[0;34m\u001b[0m\u001b[0;34m\u001b[0m\u001b[0m\n",
      "\u001b[0;32m~/.pyenv/versions/3.8.0/lib/python3.8/json/decoder.py\u001b[0m in \u001b[0;36mraw_decode\u001b[0;34m(self, s, idx)\u001b[0m\n\u001b[1;32m    353\u001b[0m             \u001b[0mobj\u001b[0m\u001b[0;34m,\u001b[0m \u001b[0mend\u001b[0m \u001b[0;34m=\u001b[0m \u001b[0mself\u001b[0m\u001b[0;34m.\u001b[0m\u001b[0mscan_once\u001b[0m\u001b[0;34m(\u001b[0m\u001b[0ms\u001b[0m\u001b[0;34m,\u001b[0m \u001b[0midx\u001b[0m\u001b[0;34m)\u001b[0m\u001b[0;34m\u001b[0m\u001b[0;34m\u001b[0m\u001b[0m\n\u001b[1;32m    354\u001b[0m         \u001b[0;32mexcept\u001b[0m \u001b[0mStopIteration\u001b[0m \u001b[0;32mas\u001b[0m \u001b[0merr\u001b[0m\u001b[0;34m:\u001b[0m\u001b[0;34m\u001b[0m\u001b[0;34m\u001b[0m\u001b[0m\n\u001b[0;32m--> 355\u001b[0;31m             \u001b[0;32mraise\u001b[0m \u001b[0mJSONDecodeError\u001b[0m\u001b[0;34m(\u001b[0m\u001b[0;34m\"Expecting value\"\u001b[0m\u001b[0;34m,\u001b[0m \u001b[0ms\u001b[0m\u001b[0;34m,\u001b[0m \u001b[0merr\u001b[0m\u001b[0;34m.\u001b[0m\u001b[0mvalue\u001b[0m\u001b[0;34m)\u001b[0m \u001b[0;32mfrom\u001b[0m \u001b[0;32mNone\u001b[0m\u001b[0;34m\u001b[0m\u001b[0;34m\u001b[0m\u001b[0m\n\u001b[0m\u001b[1;32m    356\u001b[0m         \u001b[0;32mreturn\u001b[0m \u001b[0mobj\u001b[0m\u001b[0;34m,\u001b[0m \u001b[0mend\u001b[0m\u001b[0;34m\u001b[0m\u001b[0;34m\u001b[0m\u001b[0m\n",
      "\u001b[0;31mJSONDecodeError\u001b[0m: Expecting value: line 1 column 1 (char 0)"
     ]
    }
   ],
   "source": [
    "upload_sample()"
   ]
  },
  {
   "cell_type": "code",
   "execution_count": null,
   "metadata": {},
   "outputs": [],
   "source": []
  }
 ],
 "metadata": {
  "kernelspec": {
   "display_name": "Python 3",
   "language": "python",
   "name": "python3"
  },
  "language_info": {
   "codemirror_mode": {
    "name": "ipython",
    "version": 3
   },
   "file_extension": ".py",
   "mimetype": "text/x-python",
   "name": "python",
   "nbconvert_exporter": "python",
   "pygments_lexer": "ipython3",
   "version": "3.8.0"
  }
 },
 "nbformat": 4,
 "nbformat_minor": 4
}
